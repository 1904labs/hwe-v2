{
 "cells": [
  {
   "cell_type": "code",
   "execution_count": 1,
   "id": "1afcda5d",
   "metadata": {},
   "outputs": [],
   "source": [
    "spark.sparkContext.setLogLevel('WARN')"
   ]
  },
  {
   "cell_type": "code",
   "execution_count": 2,
   "id": "722a30a5",
   "metadata": {},
   "outputs": [],
   "source": [
    "df = spark.read.text('../alice-in-wonderland.txt')\n",
    "df.createOrReplaceTempView('book')\n",
    "query = open('./sparkhelloworld/query.sql').read()"
   ]
  },
  {
   "cell_type": "code",
   "execution_count": 10,
   "id": "da6a2b81",
   "metadata": {},
   "outputs": [
    {
     "name": "stdout",
     "output_type": "stream",
     "text": [
      "with words as (\n",
      "    select explode(split(lcase(regexp_replace(value, '[^a-zA-Z ]', '')), ' ')) as word \n",
      "    from book\n",
      ")\n",
      "select word, count(*) as ct\n",
      "from words\n",
      "where len(word) > 0\n",
      "group by word\n",
      "order by ct desc\n"
     ]
    }
   ],
   "source": [
    "print(query)"
   ]
  },
  {
   "cell_type": "code",
   "execution_count": 17,
   "id": "ced652f7",
   "metadata": {},
   "outputs": [
    {
     "name": "stdout",
     "output_type": "stream",
     "text": [
      "+----------+\n",
      "|      word|\n",
      "+----------+\n",
      "|    alices|\n",
      "|adventures|\n",
      "|        in|\n",
      "|wonderland|\n",
      "|          |\n",
      "|        by|\n",
      "|     lewis|\n",
      "|   carroll|\n",
      "|          |\n",
      "|       the|\n",
      "|millennium|\n",
      "|   fulcrum|\n",
      "|   edition|\n",
      "|          |\n",
      "|          |\n",
      "|  contents|\n",
      "|          |\n",
      "|          |\n",
      "|   chapter|\n",
      "|         i|\n",
      "+----------+\n",
      "only showing top 20 rows\n",
      "\n"
     ]
    }
   ],
   "source": [
    "from pyspark.sql.functions import *\n",
    "words = df.select(explode(split(lower(regexp_replace(\"value\", '[^a-zA-Z ]', '')), ' ')).alias('word'))\n",
    "words.show()"
   ]
  },
  {
   "cell_type": "code",
   "execution_count": 23,
   "id": "7054a754",
   "metadata": {},
   "outputs": [
    {
     "name": "stdout",
     "output_type": "stream",
     "text": [
      "+-----+-----+\n",
      "| word|count|\n",
      "+-----+-----+\n",
      "|  the| 1815|\n",
      "|  and|  911|\n",
      "|   to|  802|\n",
      "|    a|  690|\n",
      "|   of|  626|\n",
      "|   it|  538|\n",
      "|  she|  538|\n",
      "| said|  462|\n",
      "|  you|  430|\n",
      "|   in|  427|\n",
      "|    i|  401|\n",
      "|alice|  385|\n",
      "|  was|  359|\n",
      "| that|  291|\n",
      "|   as|  272|\n",
      "|  her|  248|\n",
      "| with|  226|\n",
      "|   at|  220|\n",
      "|   on|  204|\n",
      "|  all|  197|\n",
      "+-----+-----+\n",
      "only showing top 20 rows\n",
      "\n"
     ]
    }
   ],
   "source": [
    "counts = words.where(length(\"word\") > 0).groupBy(\"word\").count().orderBy(desc(\"count\"))\n",
    "counts.show()"
   ]
  },
  {
   "cell_type": "code",
   "execution_count": 2,
   "id": "7b44f5f2",
   "metadata": {},
   "outputs": [
    {
     "name": "stdout",
     "output_type": "stream",
     "text": [
      "  customer_id        username              name sex  \\\n",
      "0    10000001  allenpriscilla  Margaret Johnson   F   \n",
      "1    10000017         kerri75     Aaron Johnson   M   \n",
      "2    10000018     stewartlisa    Madison Mathis   F   \n",
      "3    10000023       crystal71       Lynn Chavez   F   \n",
      "4    10000044  nicholascherry     Andrew Berger   M   \n",
      "5    10000055         susan36    Daniel Johnson   M   \n",
      "6    10000081         janet02    Rachel Wilkins   F   \n",
      "7    10000113     laratristan    Tammy Williams   F   \n",
      "8    10000121     millerwendy      Kelly Nelson   F   \n",
      "9    10000166     kennethcarr    Andrew Barrera   M   \n",
      "\n",
      "                          email   birthdate  \n",
      "0            dmeadows@yahoo.com  1991-08-01  \n",
      "1            ykrueger@yahoo.com  1942-01-07  \n",
      "2           maureen76@gmail.com  2003-03-21  \n",
      "3            philip67@gmail.com  1990-01-05  \n",
      "4       kevinnorman@hotmail.com  1979-05-14  \n",
      "5           zlittle@hotmail.com  1910-05-21  \n",
      "6         jordanana@hotmail.com  1939-07-20  \n",
      "7             david11@gmail.com  1925-04-16  \n",
      "8  victoriamartinez@hotmail.com  1918-12-10  \n",
      "9      zimmermanerica@gmail.com  1927-10-09  \n",
      "customer_id    object\n",
      "username       object\n",
      "name           object\n",
      "sex            object\n",
      "email          object\n",
      "birthdate      object\n",
      "dtype: object\n"
     ]
    }
   ],
   "source": [
    "import boto3\n",
    "import pandas as pd\n",
    "\n",
    "# Read CSV file into a DataFrame\n",
    "schema = {\n",
    "    'customer_id': str,\n",
    "    'username': str,\n",
    "    'name': str,\n",
    "    'sex': str,\n",
    "    'email': str,\n",
    "    'birthdate': str\n",
    "}\n",
    "df = pd.read_csv('./customer_ids_hbase.txt', delimiter='\\t',dtype=schema)\n",
    "print(df.head(10))\n",
    "print(df.dtypes)"
   ]
  },
  {
   "cell_type": "code",
   "execution_count": 4,
   "id": "523c28dc",
   "metadata": {},
   "outputs": [],
   "source": [
    "customer_ids = df['customer_id'].head(10)"
   ]
  },
  {
   "cell_type": "code",
   "execution_count": null,
   "id": "f56f5b49",
   "metadata": {},
   "outputs": [],
   "source": [
    "import boto3\n",
    "\n",
    "my_session = boto3.Session(profile_name='hwe_prod')\n",
    "\n",
    "# Create a DynamoDB client\n",
    "dynamodb = my_session.client('dynamodb')"
   ]
  },
  {
   "cell_type": "code",
   "execution_count": 10,
   "id": "105e066c",
   "metadata": {},
   "outputs": [
    {
     "name": "stdout",
     "output_type": "stream",
     "text": [
      "[{'birthdate': {'S': '1918-12-10'}, 'sex': {'S': 'F'}, 'customer_id': {'S': '10000121'}, 'username': {'S': 'millerwendy'}, 'email': {'S': 'victoriamartinez@hotmail.com'}, 'name': {'S': 'Kelly Nelson'}}, {'birthdate': {'S': '1927-10-09'}, 'sex': {'S': 'M'}, 'customer_id': {'S': '10000166'}, 'username': {'S': 'kennethcarr'}, 'email': {'S': 'zimmermanerica@gmail.com'}, 'name': {'S': 'Andrew Barrera'}}, {'birthdate': {'S': '1990-01-05'}, 'sex': {'S': 'F'}, 'customer_id': {'S': '10000023'}, 'username': {'S': 'crystal71'}, 'email': {'S': 'philip67@gmail.com'}, 'name': {'S': 'Lynn Chavez'}}, {'birthdate': {'S': '1910-05-21'}, 'sex': {'S': 'M'}, 'customer_id': {'S': '10000055'}, 'username': {'S': 'susan36'}, 'email': {'S': 'zlittle@hotmail.com'}, 'name': {'S': 'Daniel Johnson'}}, {'birthdate': {'S': '1991-08-01'}, 'sex': {'S': 'F'}, 'customer_id': {'S': '10000001'}, 'username': {'S': 'allenpriscilla'}, 'email': {'S': 'dmeadows@yahoo.com'}, 'name': {'S': 'Margaret Johnson'}}, {'birthdate': {'S': '1925-04-16'}, 'sex': {'S': 'F'}, 'customer_id': {'S': '10000113'}, 'username': {'S': 'laratristan'}, 'email': {'S': 'david11@gmail.com'}, 'name': {'S': 'Tammy Williams'}}, {'birthdate': {'S': '1939-07-20'}, 'sex': {'S': 'F'}, 'customer_id': {'S': '10000081'}, 'username': {'S': 'janet02'}, 'email': {'S': 'jordanana@hotmail.com'}, 'name': {'S': 'Rachel Wilkins'}}, {'birthdate': {'S': '1942-01-07'}, 'sex': {'S': 'M'}, 'customer_id': {'S': '10000017'}, 'username': {'S': 'kerri75'}, 'email': {'S': 'ykrueger@yahoo.com'}, 'name': {'S': 'Aaron Johnson'}}, {'birthdate': {'S': '2003-03-21'}, 'sex': {'S': 'F'}, 'customer_id': {'S': '10000018'}, 'username': {'S': 'stewartlisa'}, 'email': {'S': 'maureen76@gmail.com'}, 'name': {'S': 'Madison Mathis'}}, {'birthdate': {'S': '1979-05-14'}, 'sex': {'S': 'M'}, 'customer_id': {'S': '10000044'}, 'username': {'S': 'nicholascherry'}, 'email': {'S': 'kevinnorman@hotmail.com'}, 'name': {'S': 'Andrew Berger'}}]\n"
     ]
    }
   ],
   "source": [
    "def get_dynamo_key(id):\n",
    "    return { 'customer_id': {'S': id} }\n",
    "\n",
    "keys = [get_dynamo_key(cust_id) for cust_id in customer_ids]\n",
    "request_items = {\n",
    "    'customers': {\n",
    "        'Keys': keys\n",
    "    }\n",
    "}\n",
    "result = dynamodb.batch_get_item(RequestItems=request_items)\n",
    "print(result['Responses']['customers'])"
   ]
  },
  {
   "cell_type": "code",
   "execution_count": 13,
   "id": "d469165b",
   "metadata": {},
   "outputs": [
    {
     "name": "stdout",
     "output_type": "stream",
     "text": [
      "[('10000121', 'millerwendy', 'Kelly Nelson', 'victoriamartinez@hotmail.com', '1918-12-10'), ('10000166', 'kennethcarr', 'Andrew Barrera', 'zimmermanerica@gmail.com', '1927-10-09'), ('10000023', 'crystal71', 'Lynn Chavez', 'philip67@gmail.com', '1990-01-05'), ('10000055', 'susan36', 'Daniel Johnson', 'zlittle@hotmail.com', '1910-05-21'), ('10000001', 'allenpriscilla', 'Margaret Johnson', 'dmeadows@yahoo.com', '1991-08-01'), ('10000113', 'laratristan', 'Tammy Williams', 'david11@gmail.com', '1925-04-16'), ('10000081', 'janet02', 'Rachel Wilkins', 'jordanana@hotmail.com', '1939-07-20'), ('10000017', 'kerri75', 'Aaron Johnson', 'ykrueger@yahoo.com', '1942-01-07'), ('10000018', 'stewartlisa', 'Madison Mathis', 'maureen76@gmail.com', '2003-03-21'), ('10000044', 'nicholascherry', 'Andrew Berger', 'kevinnorman@hotmail.com', '1979-05-14')]\n"
     ]
    }
   ],
   "source": [
    "data = [(item['customer_id']['S'], item['username']['S'], item['name']['S'], item['email']['S'], item['birthdate']['S']) for item in result['Responses']['customers']]\n",
    "print(data)"
   ]
  },
  {
   "cell_type": "code",
   "execution_count": 16,
   "id": "24aedfe1",
   "metadata": {},
   "outputs": [],
   "source": [
    "customerDf = spark.createDataFrame(data, ['customer_id', 'username', 'name', 'email', 'birthdate'])"
   ]
  },
  {
   "cell_type": "code",
   "execution_count": 17,
   "id": "23a14848",
   "metadata": {},
   "outputs": [
    {
     "name": "stdout",
     "output_type": "stream",
     "text": [
      "+-----------+--------------+----------------+--------------------+----------+\n",
      "|customer_id|      username|            name|               email| birthdate|\n",
      "+-----------+--------------+----------------+--------------------+----------+\n",
      "|   10000121|   millerwendy|    Kelly Nelson|victoriamartinez@...|1918-12-10|\n",
      "|   10000166|   kennethcarr|  Andrew Barrera|zimmermanerica@gm...|1927-10-09|\n",
      "|   10000023|     crystal71|     Lynn Chavez|  philip67@gmail.com|1990-01-05|\n",
      "|   10000055|       susan36|  Daniel Johnson| zlittle@hotmail.com|1910-05-21|\n",
      "|   10000001|allenpriscilla|Margaret Johnson|  dmeadows@yahoo.com|1991-08-01|\n",
      "|   10000113|   laratristan|  Tammy Williams|   david11@gmail.com|1925-04-16|\n",
      "|   10000081|       janet02|  Rachel Wilkins|jordanana@hotmail...|1939-07-20|\n",
      "|   10000017|       kerri75|   Aaron Johnson|  ykrueger@yahoo.com|1942-01-07|\n",
      "|   10000018|   stewartlisa|  Madison Mathis| maureen76@gmail.com|2003-03-21|\n",
      "|   10000044|nicholascherry|   Andrew Berger|kevinnorman@hotma...|1979-05-14|\n",
      "+-----------+--------------+----------------+--------------------+----------+\n",
      "\n"
     ]
    }
   ],
   "source": [
    "customerDf.show()"
   ]
  },
  {
   "cell_type": "code",
   "execution_count": 30,
   "id": "aa61bac0",
   "metadata": {},
   "outputs": [
    {
     "name": "stdout",
     "output_type": "stream",
     "text": [
      "+-----------+-----------+--------------+----------+--------------+--------------------+----------------+-----------+-------------+-----------+----+-----------------+--------------------+--------------------+-----------+\n",
      "|marketplace|customer_id|     review_id|product_id|product_parent|       product_title|product_category|star_rating|helpful_votes|total_votes|vine|verified_purchase|     review_headline|         review_body|review_date|\n",
      "+-----------+-----------+--------------+----------+--------------+--------------------+----------------+-----------+-------------+-----------+----+-----------------+--------------------+--------------------+-----------+\n",
      "|         US|   18778586| RDIJS7QYB6XNR|B00EDBY7X8|     122952789|Monopoly Junior B...|            Toys|          5|            0|          0|   N|                Y|          Five Stars|        Excellent!!!| 2015-08-31|\n",
      "|         US|   24769659|R36ED1U38IELG8|B00D7JFOPC|     952062646|56 Pieces of Wood...|            Toys|          5|            0|          0|   N|                Y|Good quality trac...|Great quality woo...| 2015-08-31|\n",
      "|         US|   44331596| R1UE3RPRGCOLD|B002LHA74O|     818126353|Super Jumbo Playi...|            Toys|          2|            1|          1|   N|                Y|           Two Stars|Cards are not as ...| 2015-08-31|\n",
      "|         US|   23310293|R298788GS6I901|B00ARPLCGY|     261944918|Barbie Doll and F...|            Toys|          5|            0|          0|   N|                Y|my daughter loved...|my daughter loved...| 2015-08-31|\n",
      "|         US|   38745832|  RNX4EXOBBPN5|B00UZOPOFW|     717410439|Emazing Lights eL...|            Toys|          1|            1|          1|   N|                Y|     DONT BUY THESE!|Do not buy these!...| 2015-08-31|\n",
      "|         US|   13394189|R3BPETL222LMIM|B009B7F6CA|     873028700|Melissa & Doug Wa...|            Toys|          5|            0|          0|   N|                Y|          Five Stars|Great item. Pictu...| 2015-08-31|\n",
      "|         US|    2749569|R3SORMPJZO3F2J|B0101EHRSM|     723424342|Big Bang Cosmic P...|            Toys|          3|            2|          2|   N|                Y|         Three Stars|To keep together,...| 2015-08-31|\n",
      "|         US|   41137196|R2RDOJQ0WBZCF6|B00407S11Y|     383363775|Fun Express Insec...|            Toys|          5|            0|          0|   N|                Y|          Five Stars|I was pleased wit...| 2015-08-31|\n",
      "|         US|     433677|R2B8VBEPB4YEZ7|B00FGPU7U2|     780517568|Fisher-Price Octo...|            Toys|          5|            0|          0|   N|                Y|          Five Stars|    Children like it| 2015-08-31|\n",
      "|         US|    1297934|R1CB783I7B0U52|B0013OY0S0|     269360126|Claw Climber Goli...|            Toys|          1|            0|          1|   N|                Y|Shame on the sell...|Showed up not how...| 2015-08-31|\n",
      "|         US|   52006292| R2D90RQQ3V8LH|B00519PJTW|     493486387|100 Foot Multicol...|            Toys|          5|            0|          0|   N|                Y|          Five Stars|Really liked thes...| 2015-08-31|\n",
      "|         US|   32071052|R1Y4ZOUGFMJ327|B001TCY2DO|     459122467|Pig Jumbo Foil Ba...|            Toys|          5|            0|          0|   N|                Y|   Nice huge balloon|Nice huge balloon...| 2015-08-31|\n",
      "|         US|    7360347|R2BUV9QJI2A00X|B00DOQCWF8|     226984155|Minecraft Animal ...|            Toys|          5|            0|          1|   N|                Y|          Five Stars|          Great deal| 2015-08-31|\n",
      "|         US|   11613707| RSUHRJFJIRB3Z|B004C04I4I|     375659886|Disney Baby: Eeyo...|            Toys|          4|            0|          0|   N|                Y|          Four Stars|       As Advertised| 2015-08-31|\n",
      "|         US|   13545982|R1T96CG98BBA15|B00NWGEKBY|     933734136|Team Losi 8IGHT-E...|            Toys|          3|            2|          4|   N|                Y|... servo so expe...|Comes w a 15$ ser...| 2015-08-31|\n",
      "|         US|   43880421| R2ATXF4QQ30YW|B00000JS5S|     341842639|Hot Wheels 48- Ca...|            Toys|          5|            0|          0|   N|                Y|          Five Stars|   awesome ! Thanks!| 2015-08-31|\n",
      "|         US|    1662075|R1YS3DS218NNMD|B00XPWXYDK|     210135375|ZuZo 2.4GHz 4 CH ...|            Toys|          5|            4|          4|   N|                N|The closest relev...|I got this item f...| 2015-08-31|\n",
      "|         US|   18461411|R2SDXLTLF92O0H|B00VPXX92W|     705054378|Teenage Mutant Ni...|            Toys|          5|            0|          0|   N|                Y|          Five Stars|It was a birthday...| 2015-08-31|\n",
      "|         US|   27225859| R4R337CCDWLNG|B00YRA3H4U|     223420727|Franklin Sports M...|            Toys|          3|            0|          1|   Y|                N|Got wrong product...|Got a wrong produ...| 2015-08-31|\n",
      "+-----------+-----------+--------------+----------+--------------+--------------------+----------------+-----------+-------------+-----------+----+-----------------+--------------------+--------------------+-----------+\n",
      "\n"
     ]
    }
   ],
   "source": [
    "reviews_df = spark.read.option('delimiter', '\\t').option(\"header\", \"true\").csv('./amazon_reviews_us_Toys_v1_20.tsv')\n",
    "reviews_df.show()"
   ]
  },
  {
   "cell_type": "code",
   "execution_count": 43,
   "id": "9c556601",
   "metadata": {},
   "outputs": [],
   "source": [
    "def get_dynamo_key(id):\n",
    "    return { 'customer_id': {'S': id} }\n",
    "\n",
    "def dynamo_item_to_tuple(item):\n",
    "    return (item['customer_id']['S'], item['username']['S'], item['name']['S'], item['email']['S'], item['birthdate']['S'])\n",
    "\n",
    "def get_customer_ids(reviews_df):\n",
    "    return [c.customer_id for c in reviews_df.select('customer_id').collect()]\n",
    "\n",
    "def get_customers_from_dynamo(customer_ids):\n",
    "    customer_id_keys = [get_dynamo_key(cid) for cid in customer_ids]\n",
    "    request_items = {\n",
    "        'customers': {\n",
    "            'Keys': customer_id_keys\n",
    "        }\n",
    "    }\n",
    "    return dynamodb.batch_get_item(RequestItems=request_items)\n",
    "\n",
    "def dynamo_response_to_dataframe(dynamo_result):\n",
    "    data = [dynamo_item_to_tuple(item) for item in dynamo_result['Responses']['customers']]\n",
    "    return spark.createDataFrame(data, ['customer_id', 'username', 'name', 'email', 'birthdate'])"
   ]
  },
  {
   "cell_type": "code",
   "execution_count": 44,
   "id": "6bda76f3",
   "metadata": {},
   "outputs": [
    {
     "name": "stdout",
     "output_type": "stream",
     "text": [
      "+-----------+---------------+------------------+--------------------+----------+\n",
      "|customer_id|       username|              name|               email| birthdate|\n",
      "+-----------+---------------+------------------+--------------------+----------+\n",
      "|   18778586|          nsoto|  Jill Dickson PhD|collinsalexa@hotm...|1950-10-22|\n",
      "|   13545982|brendanfranklin|    James Jacobson|jennifer72@gmail.com|1915-02-07|\n",
      "|   27225859|     jennifer33|    Sheri Mitchell|williamswalter@gm...|1994-01-18|\n",
      "|   18461411|    davislauren|  Kathryn Martinez|blakemaxwell@gmai...|1923-05-05|\n",
      "|    1297934|      velezjoel|    Kevin Robinson|racheljohnson@hot...|1969-09-30|\n",
      "|    2749569|    sarahmiller| Debbie Herrera MD|  john38@hotmail.com|1977-06-23|\n",
      "|    1662075|    sherryallen|       Roger Dixon| heather62@yahoo.com|1910-04-03|\n",
      "|   11613707|   jerrypadilla|     James Mcclain|brownjacqueline@g...|2003-07-21|\n",
      "|   23310293|        chris47|     Matthew Evans|davidwells@hotmai...|2014-04-23|\n",
      "|   13394189|     jonathan57|      Gabriel Huff|nathaniel85@gmail...|2008-06-01|\n",
      "|   24769659|      kaitlin70|Catherine Thompson|ochoamatthew@gmai...|1961-07-06|\n",
      "+-----------+---------------+------------------+--------------------+----------+\n",
      "\n"
     ]
    }
   ],
   "source": [
    "# first, get all of the customer IDs from each review\n",
    "customer_ids = get_customer_ids(reviews_df)\n",
    "# second, using those IDs, retrieve each customer record from dynamo\n",
    "dynamo_result = get_customers_from_dynamo(customer_ids)\n",
    "# finally, create a new \"customers\" dataframe using that data\n",
    "customers_df = dynamo_response_to_dataframe(dynamo_result)\n",
    "customers_df.show()"
   ]
  },
  {
   "cell_type": "code",
   "execution_count": 49,
   "id": "44c39342",
   "metadata": {},
   "outputs": [
    {
     "name": "stdout",
     "output_type": "stream",
     "text": [
      "+-----------+--------------+--------------------+---------------+------------------+\n",
      "|customer_id|     review_id|       product_title|       username|              name|\n",
      "+-----------+--------------+--------------------+---------------+------------------+\n",
      "|   18778586| RDIJS7QYB6XNR|Monopoly Junior B...|          nsoto|  Jill Dickson PhD|\n",
      "|   13545982|R1T96CG98BBA15|Team Losi 8IGHT-E...|brendanfranklin|    James Jacobson|\n",
      "|   27225859| R4R337CCDWLNG|Franklin Sports M...|     jennifer33|    Sheri Mitchell|\n",
      "|   18461411|R2SDXLTLF92O0H|Teenage Mutant Ni...|    davislauren|  Kathryn Martinez|\n",
      "|    1297934|R1CB783I7B0U52|Claw Climber Goli...|      velezjoel|    Kevin Robinson|\n",
      "|    2749569|R3SORMPJZO3F2J|Big Bang Cosmic P...|    sarahmiller| Debbie Herrera MD|\n",
      "|    1662075|R1YS3DS218NNMD|ZuZo 2.4GHz 4 CH ...|    sherryallen|       Roger Dixon|\n",
      "|   11613707| RSUHRJFJIRB3Z|Disney Baby: Eeyo...|   jerrypadilla|     James Mcclain|\n",
      "|   23310293|R298788GS6I901|Barbie Doll and F...|        chris47|     Matthew Evans|\n",
      "|   13394189|R3BPETL222LMIM|Melissa & Doug Wa...|     jonathan57|      Gabriel Huff|\n",
      "|   24769659|R36ED1U38IELG8|56 Pieces of Wood...|      kaitlin70|Catherine Thompson|\n",
      "+-----------+--------------+--------------------+---------------+------------------+\n",
      "\n"
     ]
    }
   ],
   "source": [
    "joined_df = reviews_df.join(customers_df, 'customer_id')\n",
    "joined_df.select('customer_id', 'review_id', 'product_title', 'username', 'name').show()"
   ]
  },
  {
   "cell_type": "code",
   "execution_count": 58,
   "id": "494c1194",
   "metadata": {},
   "outputs": [
    {
     "name": "stdout",
     "output_type": "stream",
     "text": [
      "+-----------+-----------+--------------+----------+--------------+--------------------+----------------+-----------+-------------+-----------+----+-----------------+--------------------+--------------------+-----------+\n",
      "|marketplace|customer_id|     review_id|product_id|product_parent|       product_title|product_category|star_rating|helpful_votes|total_votes|vine|verified_purchase|     review_headline|         review_body|review_date|\n",
      "+-----------+-----------+--------------+----------+--------------+--------------------+----------------+-----------+-------------+-----------+----+-----------------+--------------------+--------------------+-----------+\n",
      "|marketplace|customer_id|     review_id|product_id|product_parent|       product_title|product_category|star_rating|helpful_votes|total_votes|vine|verified_purchase|     review_headline|         review_body|review_date|\n",
      "|         US|   18778586| RDIJS7QYB6XNR|B00EDBY7X8|     122952789|Monopoly Junior B...|            Toys|          5|            0|          0|   N|                Y|          Five Stars|        Excellent!!!| 2015-08-31|\n",
      "|         US|   24769659|R36ED1U38IELG8|B00D7JFOPC|     952062646|56 Pieces of Wood...|            Toys|          5|            0|          0|   N|                Y|Good quality trac...|Great quality woo...| 2015-08-31|\n",
      "|         US|   44331596| R1UE3RPRGCOLD|B002LHA74O|     818126353|Super Jumbo Playi...|            Toys|          2|            1|          1|   N|                Y|           Two Stars|Cards are not as ...| 2015-08-31|\n",
      "|         US|   23310293|R298788GS6I901|B00ARPLCGY|     261944918|Barbie Doll and F...|            Toys|          5|            0|          0|   N|                Y|my daughter loved...|my daughter loved...| 2015-08-31|\n",
      "|         US|   38745832|  RNX4EXOBBPN5|B00UZOPOFW|     717410439|Emazing Lights eL...|            Toys|          1|            1|          1|   N|                Y|     DONT BUY THESE!|Do not buy these!...| 2015-08-31|\n",
      "|         US|   13394189|R3BPETL222LMIM|B009B7F6CA|     873028700|Melissa & Doug Wa...|            Toys|          5|            0|          0|   N|                Y|          Five Stars|Great item. Pictu...| 2015-08-31|\n",
      "|         US|    2749569|R3SORMPJZO3F2J|B0101EHRSM|     723424342|Big Bang Cosmic P...|            Toys|          3|            2|          2|   N|                Y|         Three Stars|To keep together,...| 2015-08-31|\n",
      "|         US|   41137196|R2RDOJQ0WBZCF6|B00407S11Y|     383363775|Fun Express Insec...|            Toys|          5|            0|          0|   N|                Y|          Five Stars|I was pleased wit...| 2015-08-31|\n",
      "|         US|     433677|R2B8VBEPB4YEZ7|B00FGPU7U2|     780517568|Fisher-Price Octo...|            Toys|          5|            0|          0|   N|                Y|          Five Stars|    Children like it| 2015-08-31|\n",
      "|         US|    1297934|R1CB783I7B0U52|B0013OY0S0|     269360126|Claw Climber Goli...|            Toys|          1|            0|          1|   N|                Y|Shame on the sell...|Showed up not how...| 2015-08-31|\n",
      "|         US|   52006292| R2D90RQQ3V8LH|B00519PJTW|     493486387|100 Foot Multicol...|            Toys|          5|            0|          0|   N|                Y|          Five Stars|Really liked thes...| 2015-08-31|\n",
      "|         US|   32071052|R1Y4ZOUGFMJ327|B001TCY2DO|     459122467|Pig Jumbo Foil Ba...|            Toys|          5|            0|          0|   N|                Y|   Nice huge balloon|Nice huge balloon...| 2015-08-31|\n",
      "|         US|    7360347|R2BUV9QJI2A00X|B00DOQCWF8|     226984155|Minecraft Animal ...|            Toys|          5|            0|          1|   N|                Y|          Five Stars|          Great deal| 2015-08-31|\n",
      "|         US|   11613707| RSUHRJFJIRB3Z|B004C04I4I|     375659886|Disney Baby: Eeyo...|            Toys|          4|            0|          0|   N|                Y|          Four Stars|       As Advertised| 2015-08-31|\n",
      "|         US|   13545982|R1T96CG98BBA15|B00NWGEKBY|     933734136|Team Losi 8IGHT-E...|            Toys|          3|            2|          4|   N|                Y|... servo so expe...|Comes w a 15$ ser...| 2015-08-31|\n",
      "|         US|   43880421| R2ATXF4QQ30YW|B00000JS5S|     341842639|Hot Wheels 48- Ca...|            Toys|          5|            0|          0|   N|                Y|          Five Stars|   awesome ! Thanks!| 2015-08-31|\n",
      "|         US|    1662075|R1YS3DS218NNMD|B00XPWXYDK|     210135375|ZuZo 2.4GHz 4 CH ...|            Toys|          5|            4|          4|   N|                N|The closest relev...|I got this item f...| 2015-08-31|\n",
      "|         US|   18461411|R2SDXLTLF92O0H|B00VPXX92W|     705054378|Teenage Mutant Ni...|            Toys|          5|            0|          0|   N|                Y|          Five Stars|It was a birthday...| 2015-08-31|\n",
      "|         US|   27225859| R4R337CCDWLNG|B00YRA3H4U|     223420727|Franklin Sports M...|            Toys|          3|            0|          1|   Y|                N|Got wrong product...|Got a wrong produ...| 2015-08-31|\n",
      "+-----------+-----------+--------------+----------+--------------+--------------------+----------------+-----------+-------------+-----------+----+-----------------+--------------------+--------------------+-----------+\n",
      "\n"
     ]
    }
   ],
   "source": [
    "from pyspark.sql.functions import from_csv\n",
    "reviews_df = spark.read.text('./amazon_reviews_us_Toys_v1_20.tsv')\n",
    "schema = 'marketplace STRING, customer_id STRING, review_id STRING, product_id STRING, product_parent STRING, product_title STRING, product_category STRING, star_rating STRING, helpful_votes STRING, total_votes STRING, vine STRING, verified_purchase STRING, review_headline STRING, review_body STRING, review_date STRING'\n",
    "reviews_df.select(from_csv('value', schema, { 'delimiter': '\\t' }).alias('csv')).select('csv.*').show()\n"
   ]
  },
  {
   "cell_type": "code",
   "execution_count": null,
   "id": "b056dcd5",
   "metadata": {},
   "outputs": [],
   "source": []
  }
 ],
 "metadata": {
  "kernelspec": {
   "display_name": "Python 3 (ipykernel)",
   "language": "python",
   "name": "python3"
  },
  "language_info": {
   "codemirror_mode": {
    "name": "ipython",
    "version": 3
   },
   "file_extension": ".py",
   "mimetype": "text/x-python",
   "name": "python",
   "nbconvert_exporter": "python",
   "pygments_lexer": "ipython3",
   "version": "3.10.11"
  }
 },
 "nbformat": 4,
 "nbformat_minor": 5
}
